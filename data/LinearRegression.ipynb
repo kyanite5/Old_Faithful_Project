{
 "cells": [
  {
   "cell_type": "markdown",
   "metadata": {},
   "source": [
    "### Linear Regression model for Duration of Eruption (min) and Waiting Time between Eruptions (min)"
   ]
  },
  {
   "cell_type": "code",
   "execution_count": 1,
   "metadata": {},
   "outputs": [],
   "source": [
    "import matplotlib.pyplot as plt\n",
    "import numpy as np\n",
    "import pandas as pd"
   ]
  },
  {
   "cell_type": "code",
   "execution_count": 2,
   "metadata": {},
   "outputs": [
    {
     "data": {
      "text/plain": [
       "344.0"
      ]
     },
     "execution_count": 2,
     "metadata": {},
     "output_type": "execute_result"
    }
   ],
   "source": [
    "first = pd.read_csv('truncated_waittimes.csv')\n",
    "first.head()\n",
    "first.dur.max()"
   ]
  },
  {
   "cell_type": "code",
   "execution_count": 3,
   "metadata": {},
   "outputs": [],
   "source": [
    "data = first.loc[first[\"dur\"]<= 10]"
   ]
  },
  {
   "cell_type": "code",
   "execution_count": 4,
   "metadata": {},
   "outputs": [
    {
     "data": {
      "text/plain": [
       "eruptionID             16071\n",
       "geyser                 16071\n",
       "eruption_time_epoch    16071\n",
       "duration               16071\n",
       "observer               16071\n",
       "date                   16071\n",
       "year                   16071\n",
       "waiting_min            16071\n",
       "waiting_hr             16071\n",
       "dur                    16071\n",
       "dtype: int64"
      ]
     },
     "execution_count": 4,
     "metadata": {},
     "output_type": "execute_result"
    }
   ],
   "source": [
    "early = data.loc[data[\"year\"]<= 1992]\n",
    "early.count()"
   ]
  },
  {
   "cell_type": "code",
   "execution_count": 5,
   "metadata": {},
   "outputs": [
    {
     "data": {
      "text/plain": [
       "eruptionID             2540\n",
       "geyser                 2540\n",
       "eruption_time_epoch    2540\n",
       "duration               2540\n",
       "observer               2540\n",
       "date                   2540\n",
       "year                   2540\n",
       "waiting_min            2540\n",
       "waiting_hr             2540\n",
       "dur                    2540\n",
       "dtype: int64"
      ]
     },
     "execution_count": 5,
     "metadata": {},
     "output_type": "execute_result"
    }
   ],
   "source": [
    "late = data.loc[data[\"year\"] >1992]\n",
    "late.count()"
   ]
  },
  {
   "cell_type": "markdown",
   "metadata": {},
   "source": [
    "### Regression 1970 - 1992"
   ]
  },
  {
   "cell_type": "code",
   "execution_count": 6,
   "metadata": {},
   "outputs": [
    {
     "name": "stdout",
     "output_type": "stream",
     "text": [
      "Shape:  (16071, 1) (16071, 1)\n"
     ]
    }
   ],
   "source": [
    "# shape data\n",
    "X = early[\"waiting_min\"].values.reshape(-1, 1)\n",
    "y = early[\"dur\"].values.reshape(-1, 1)\n",
    "print(\"Shape: \", X.shape, y.shape)"
   ]
  },
  {
   "cell_type": "code",
   "execution_count": 7,
   "metadata": {},
   "outputs": [
    {
     "data": {
      "text/plain": [
       "Text(0,0.5,'Duration of Eruption Minutes')"
      ]
     },
     "execution_count": 7,
     "metadata": {},
     "output_type": "execute_result"
    },
    {
     "data": {
      "image/png": "[encoded data removed]",
      "text/plain": [
       "<Figure size 432x288 with 1 Axes>"
      ]
     },
     "metadata": {
      "needs_background": "light"
     },
     "output_type": "display_data"
    }
   ],
   "source": [
    "# Plot the data to see if linear relationship exists\n",
    "plt.scatter(X, y)\n",
    "plt.xlabel(\"Waiting Time Minutes\")\n",
    "plt.ylabel(\"Duration of Eruption Minutes\")"
   ]
  },
  {
   "cell_type": "code",
   "execution_count": 8,
   "metadata": {},
   "outputs": [],
   "source": [
    "# Use sklearn's `train_test_split` to split the data into training and testing\n",
    "from sklearn.model_selection import train_test_split\n",
    "X_train, X_test, y_train, y_test = train_test_split(X, y, random_state=42)"
   ]
  },
  {
   "cell_type": "code",
   "execution_count": 9,
   "metadata": {},
   "outputs": [],
   "source": [
    "# Create the model\n",
    "from sklearn.linear_model import LinearRegression\n",
    "model = LinearRegression()"
   ]
  },
  {
   "cell_type": "code",
   "execution_count": 10,
   "metadata": {},
   "outputs": [
    {
     "data": {
      "text/plain": [
       "LinearRegression(copy_X=True, fit_intercept=True, n_jobs=1, normalize=False)"
      ]
     },
     "execution_count": 10,
     "metadata": {},
     "output_type": "execute_result"
    }
   ],
   "source": [
    "# Fit the model to the training data. \n",
    "model.fit(X_train, y_train)"
   ]
  },
  {
   "cell_type": "code",
   "execution_count": 11,
   "metadata": {},
   "outputs": [
    {
     "name": "stdout",
     "output_type": "stream",
     "text": [
      "Mean Squared Error (MSE): 0.37196245844703385\n",
      "R-squared (R2 ): 0.6736693904639421\n"
     ]
    }
   ],
   "source": [
    "# Calculate the mean_squared_error and the r-squared value\n",
    "from sklearn.metrics import mean_squared_error, r2_score\n",
    "\n",
    "# Use our model to make predictions\n",
    "predicted = model.predict(X_test)\n",
    "\n",
    "# Score the predictions with mse and r2\n",
    "mse = mean_squared_error(y_test, predicted)\n",
    "r2 = r2_score(y_test, predicted)\n",
    "\n",
    "print(f\"Mean Squared Error (MSE): {mse}\")\n",
    "print(f\"R-squared (R2 ): {r2}\")"
   ]
  },
  {
   "cell_type": "code",
   "execution_count": 12,
   "metadata": {},
   "outputs": [
    {
     "data": {
      "text/plain": [
       "0.6736693904639421"
      ]
     },
     "execution_count": 12,
     "metadata": {},
     "output_type": "execute_result"
    }
   ],
   "source": [
    "# Call the `score` method on the model to show the r2 score\n",
    "model.score(X_test, y_test)"
   ]
  },
  {
   "cell_type": "code",
   "execution_count": 13,
   "metadata": {},
   "outputs": [
    {
     "data": {
      "image/png": "[encoded data removed]",
      "text/plain": [
       "<Figure size 432x288 with 1 Axes>"
      ]
     },
     "metadata": {
      "needs_background": "light"
     },
     "output_type": "display_data"
    }
   ],
   "source": [
    "plt.scatter(predicted, predicted - y_test)\n",
    "plt.hlines(y=0, xmin=predicted.min(), xmax=predicted.max())\n",
    "plt.show()"
   ]
  },
  {
   "cell_type": "code",
   "execution_count": 14,
   "metadata": {},
   "outputs": [
    {
     "data": {
      "text/plain": [
       "LinregressResult(slope=0.06581769353093847, intercept=-1.1552621602150035, rvalue=0.8186389918229249, pvalue=0.0, stderr=0.0003642512218297824)"
      ]
     },
     "execution_count": 14,
     "metadata": {},
     "output_type": "execute_result"
    }
   ],
   "source": [
    "X = early[\"waiting_min\"]\n",
    "y = early[\"dur\"]\n",
    "\n",
    "from scipy.stats import linregress\n",
    "linregress(X,y) "
   ]
  },
  {
   "cell_type": "code",
   "execution_count": 15,
   "metadata": {},
   "outputs": [
    {
     "name": "stdout",
     "output_type": "stream",
     "text": [
      "[-1.14967161]\n",
      "[[0.06572805]]\n"
     ]
    }
   ],
   "source": [
    "#To retrieve the intercept:\n",
    "print(model.intercept_)\n",
    "#For retrieving the slope:\n",
    "print(model.coef_)"
   ]
  },
  {
   "cell_type": "markdown",
   "metadata": {},
   "source": [
    "### Regression 1992-2019\n"
   ]
  },
  {
   "cell_type": "code",
   "execution_count": 16,
   "metadata": {},
   "outputs": [
    {
     "name": "stdout",
     "output_type": "stream",
     "text": [
      "Shape:  (2540, 1) (2540, 1)\n"
     ]
    }
   ],
   "source": [
    "# shape data\n",
    "X = late[\"waiting_min\"].values.reshape(-1, 1)\n",
    "y = late[\"dur\"].values.reshape(-1, 1)\n",
    "print(\"Shape: \", X.shape, y.shape)"
   ]
  },
  {
   "cell_type": "code",
   "execution_count": 17,
   "metadata": {},
   "outputs": [
    {
     "data": {
      "text/plain": [
       "Text(0,0.5,'Duration of Eruption Minutes')"
      ]
     },
     "execution_count": 17,
     "metadata": {},
     "output_type": "execute_result"
    },
    {
     "data": {
      "image/png": "[encoded data removed]",
      "text/plain": [
       "<Figure size 432x288 with 1 Axes>"
      ]
     },
     "metadata": {
      "needs_background": "light"
     },
     "output_type": "display_data"
    }
   ],
   "source": [
    "# Plot the data to see if linear relationship exists\n",
    "plt.scatter(X, y)\n",
    "plt.xlabel(\"Waiting Time Minutes\")\n",
    "plt.ylabel(\"Duration of Eruption Minutes\")"
   ]
  },
  {
   "cell_type": "code",
   "execution_count": 18,
   "metadata": {},
   "outputs": [],
   "source": [
    "# Use sklearn's `train_test_split` to split the data into training and testing\n",
    "from sklearn.model_selection import train_test_split\n",
    "X_train, X_test, y_train, y_test = train_test_split(X, y, random_state=42)"
   ]
  },
  {
   "cell_type": "code",
   "execution_count": 19,
   "metadata": {},
   "outputs": [],
   "source": [
    "# Create the model\n",
    "from sklearn.linear_model import LinearRegression\n",
    "model = LinearRegression()"
   ]
  },
  {
   "cell_type": "code",
   "execution_count": 20,
   "metadata": {},
   "outputs": [
    {
     "data": {
      "text/plain": [
       "LinearRegression(copy_X=True, fit_intercept=True, n_jobs=1, normalize=False)"
      ]
     },
     "execution_count": 20,
     "metadata": {},
     "output_type": "execute_result"
    }
   ],
   "source": [
    "# Fit the model to the training data. \n",
    "model.fit(X_train, y_train)"
   ]
  },
  {
   "cell_type": "code",
   "execution_count": 21,
   "metadata": {},
   "outputs": [
    {
     "name": "stdout",
     "output_type": "stream",
     "text": [
      "Mean Squared Error (MSE): 0.3715010512059392\n",
      "R-squared (R2 ): 0.7125130302988406\n"
     ]
    }
   ],
   "source": [
    "# Calculate the mean_squared_error and the r-squared value\n",
    "from sklearn.metrics import mean_squared_error, r2_score\n",
    "\n",
    "# Use our model to make predictions\n",
    "predicted = model.predict(X_test)\n",
    "\n",
    "# Score the predictions with mse and r2\n",
    "mse = mean_squared_error(y_test, predicted)\n",
    "r2 = r2_score(y_test, predicted)\n",
    "\n",
    "print(f\"Mean Squared Error (MSE): {mse}\")\n",
    "print(f\"R-squared (R2 ): {r2}\")"
   ]
  },
  {
   "cell_type": "code",
   "execution_count": 22,
   "metadata": {},
   "outputs": [
    {
     "data": {
      "text/plain": [
       "0.7125130302988406"
      ]
     },
     "execution_count": 22,
     "metadata": {},
     "output_type": "execute_result"
    }
   ],
   "source": [
    "# Call the `score` method on the model to show the r2 score\n",
    "model.score(X_test, y_test)"
   ]
  },
  {
   "cell_type": "code",
   "execution_count": 23,
   "metadata": {},
   "outputs": [
    {
     "data": {
      "image/png": "[encoded data removed]",
      "text/plain": [
       "<Figure size 432x288 with 1 Axes>"
      ]
     },
     "metadata": {
      "needs_background": "light"
     },
     "output_type": "display_data"
    }
   ],
   "source": [
    "plt.scatter(predicted, predicted - y_test)\n",
    "plt.hlines(y=0, xmin=predicted.min(), xmax=predicted.max())\n",
    "plt.show()"
   ]
  },
  {
   "cell_type": "code",
   "execution_count": 45,
   "metadata": {},
   "outputs": [
    {
     "data": {
      "text/plain": [
       "LinregressResult(slope=0.06554977801896024, intercept=-1.8163254109110376, rvalue=0.8549330650844785, pvalue=0.0, stderr=0.0007894809250731414)"
      ]
     },
     "execution_count": 45,
     "metadata": {},
     "output_type": "execute_result"
    }
   ],
   "source": [
    "X = late[\"waiting_min\"]\n",
    "y = late[\"dur\"]\n",
    "\n",
    "from scipy.stats import linregress\n",
    "linregress(X,y) "
   ]
  },
  {
   "cell_type": "code",
   "execution_count": 24,
   "metadata": {},
   "outputs": [
    {
     "name": "stdout",
     "output_type": "stream",
     "text": [
      "[-1.8225789]\n",
      "[[0.06560789]]\n"
     ]
    }
   ],
   "source": [
    "#To retrieve the intercept:\n",
    "print(model.intercept_)\n",
    "#For retrieving the slope:\n",
    "print(model.coef_)"
   ]
  },
  {
   "cell_type": "markdown",
   "metadata": {},
   "source": [
    "### Linear Regression of Early (1970-1992) 2nd Mode"
   ]
  },
  {
   "cell_type": "code",
   "execution_count": 25,
   "metadata": {},
   "outputs": [
    {
     "data": {
      "text/html": [
       "<div>\n",
       "<style scoped>\n",
       "    .dataframe tbody tr th:only-of-type {\n",
       "        vertical-align: middle;\n",
       "    }\n",
       "\n",
       "    .dataframe tbody tr th {\n",
       "        vertical-align: top;\n",
       "    }\n",
       "\n",
       "    .dataframe thead th {\n",
       "        text-align: right;\n",
       "    }\n",
       "</style>\n",
       "<table border=\"1\" class=\"dataframe\">\n",
       "  <thead>\n",
       "    <tr style=\"text-align: right;\">\n",
       "      <th></th>\n",
       "      <th>Unnamed: 0</th>\n",
       "      <th>geyser</th>\n",
       "      <th>eruption_time_epoch</th>\n",
       "      <th>duration</th>\n",
       "      <th>observer</th>\n",
       "      <th>date</th>\n",
       "      <th>year</th>\n",
       "      <th>waiting_min</th>\n",
       "      <th>waiting_hr</th>\n",
       "      <th>dur</th>\n",
       "    </tr>\n",
       "    <tr>\n",
       "      <th>eruptionID</th>\n",
       "      <th></th>\n",
       "      <th></th>\n",
       "      <th></th>\n",
       "      <th></th>\n",
       "      <th></th>\n",
       "      <th></th>\n",
       "      <th></th>\n",
       "      <th></th>\n",
       "      <th></th>\n",
       "      <th></th>\n",
       "    </tr>\n",
       "  </thead>\n",
       "  <tbody>\n",
       "    <tr>\n",
       "      <th>23132</th>\n",
       "      <td>0</td>\n",
       "      <td>Old Faithful</td>\n",
       "      <td>10506540</td>\n",
       "      <td>4min</td>\n",
       "      <td>OFVCL-EV</td>\n",
       "      <td>5/2/1970 14:29</td>\n",
       "      <td>1970</td>\n",
       "      <td>71.0</td>\n",
       "      <td>1.18</td>\n",
       "      <td>4.00</td>\n",
       "    </tr>\n",
       "    <tr>\n",
       "      <th>23133</th>\n",
       "      <td>1</td>\n",
       "      <td>Old Faithful</td>\n",
       "      <td>10510800</td>\n",
       "      <td>1.5min</td>\n",
       "      <td>OFVCL-EV</td>\n",
       "      <td>5/2/1970 15:40</td>\n",
       "      <td>1970</td>\n",
       "      <td>50.0</td>\n",
       "      <td>0.83</td>\n",
       "      <td>1.50</td>\n",
       "    </tr>\n",
       "    <tr>\n",
       "      <th>23134</th>\n",
       "      <td>2</td>\n",
       "      <td>Old Faithful</td>\n",
       "      <td>10513800</td>\n",
       "      <td>4.25m</td>\n",
       "      <td>OFVCL-EV</td>\n",
       "      <td>5/2/1970 16:30</td>\n",
       "      <td>1970</td>\n",
       "      <td>67.0</td>\n",
       "      <td>1.12</td>\n",
       "      <td>4.25</td>\n",
       "    </tr>\n",
       "    <tr>\n",
       "      <th>23135</th>\n",
       "      <td>3</td>\n",
       "      <td>Old Faithful</td>\n",
       "      <td>10517820</td>\n",
       "      <td>4m</td>\n",
       "      <td>OFVCL-EV</td>\n",
       "      <td>5/2/1970 17:37</td>\n",
       "      <td>1970</td>\n",
       "      <td>81.0</td>\n",
       "      <td>1.35</td>\n",
       "      <td>4.00</td>\n",
       "    </tr>\n",
       "    <tr>\n",
       "      <th>23136</th>\n",
       "      <td>4</td>\n",
       "      <td>Old Faithful</td>\n",
       "      <td>10522680</td>\n",
       "      <td>1.75min</td>\n",
       "      <td>OFVCL-EV</td>\n",
       "      <td>5/2/1970 18:58</td>\n",
       "      <td>1970</td>\n",
       "      <td>43.0</td>\n",
       "      <td>0.72</td>\n",
       "      <td>1.75</td>\n",
       "    </tr>\n",
       "  </tbody>\n",
       "</table>\n",
       "</div>"
      ],
      "text/plain": [
       "            Unnamed: 0        geyser  eruption_time_epoch duration  observer  \\\n",
       "eruptionID                                                                     \n",
       "23132                0  Old Faithful             10506540     4min  OFVCL-EV   \n",
       "23133                1  Old Faithful             10510800   1.5min  OFVCL-EV   \n",
       "23134                2  Old Faithful             10513800    4.25m  OFVCL-EV   \n",
       "23135                3  Old Faithful             10517820       4m  OFVCL-EV   \n",
       "23136                4  Old Faithful             10522680  1.75min  OFVCL-EV   \n",
       "\n",
       "                      date  year  waiting_min  waiting_hr   dur  \n",
       "eruptionID                                                       \n",
       "23132       5/2/1970 14:29  1970         71.0        1.18  4.00  \n",
       "23133       5/2/1970 15:40  1970         50.0        0.83  1.50  \n",
       "23134       5/2/1970 16:30  1970         67.0        1.12  4.25  \n",
       "23135       5/2/1970 17:37  1970         81.0        1.35  4.00  \n",
       "23136       5/2/1970 18:58  1970         43.0        0.72  1.75  "
      ]
     },
     "execution_count": 25,
     "metadata": {},
     "output_type": "execute_result"
    }
   ],
   "source": [
    "data= pd.read_csv('early.csv', index_col='eruptionID')\n",
    "\n",
    "data.head()"
   ]
  },
  {
   "cell_type": "code",
   "execution_count": 26,
   "metadata": {},
   "outputs": [
    {
     "data": {
      "text/html": [
       "<div>\n",
       "<style scoped>\n",
       "    .dataframe tbody tr th:only-of-type {\n",
       "        vertical-align: middle;\n",
       "    }\n",
       "\n",
       "    .dataframe tbody tr th {\n",
       "        vertical-align: top;\n",
       "    }\n",
       "\n",
       "    .dataframe thead th {\n",
       "        text-align: right;\n",
       "    }\n",
       "</style>\n",
       "<table border=\"1\" class=\"dataframe\">\n",
       "  <thead>\n",
       "    <tr style=\"text-align: right;\">\n",
       "      <th></th>\n",
       "      <th>geyser</th>\n",
       "      <th>eruption_time_epoch</th>\n",
       "      <th>duration</th>\n",
       "      <th>observer</th>\n",
       "      <th>date</th>\n",
       "      <th>year</th>\n",
       "      <th>waiting_min</th>\n",
       "      <th>waiting_hr</th>\n",
       "      <th>dur</th>\n",
       "    </tr>\n",
       "    <tr>\n",
       "      <th>eruptionID</th>\n",
       "      <th></th>\n",
       "      <th></th>\n",
       "      <th></th>\n",
       "      <th></th>\n",
       "      <th></th>\n",
       "      <th></th>\n",
       "      <th></th>\n",
       "      <th></th>\n",
       "      <th></th>\n",
       "    </tr>\n",
       "  </thead>\n",
       "  <tbody>\n",
       "    <tr>\n",
       "      <th>23132</th>\n",
       "      <td>Old Faithful</td>\n",
       "      <td>10506540</td>\n",
       "      <td>4min</td>\n",
       "      <td>OFVCL-EV</td>\n",
       "      <td>5/2/1970 14:29</td>\n",
       "      <td>1970</td>\n",
       "      <td>71.0</td>\n",
       "      <td>1.18</td>\n",
       "      <td>4.00</td>\n",
       "    </tr>\n",
       "    <tr>\n",
       "      <th>23133</th>\n",
       "      <td>Old Faithful</td>\n",
       "      <td>10510800</td>\n",
       "      <td>1.5min</td>\n",
       "      <td>OFVCL-EV</td>\n",
       "      <td>5/2/1970 15:40</td>\n",
       "      <td>1970</td>\n",
       "      <td>50.0</td>\n",
       "      <td>0.83</td>\n",
       "      <td>1.50</td>\n",
       "    </tr>\n",
       "    <tr>\n",
       "      <th>23134</th>\n",
       "      <td>Old Faithful</td>\n",
       "      <td>10513800</td>\n",
       "      <td>4.25m</td>\n",
       "      <td>OFVCL-EV</td>\n",
       "      <td>5/2/1970 16:30</td>\n",
       "      <td>1970</td>\n",
       "      <td>67.0</td>\n",
       "      <td>1.12</td>\n",
       "      <td>4.25</td>\n",
       "    </tr>\n",
       "    <tr>\n",
       "      <th>23135</th>\n",
       "      <td>Old Faithful</td>\n",
       "      <td>10517820</td>\n",
       "      <td>4m</td>\n",
       "      <td>OFVCL-EV</td>\n",
       "      <td>5/2/1970 17:37</td>\n",
       "      <td>1970</td>\n",
       "      <td>81.0</td>\n",
       "      <td>1.35</td>\n",
       "      <td>4.00</td>\n",
       "    </tr>\n",
       "    <tr>\n",
       "      <th>23136</th>\n",
       "      <td>Old Faithful</td>\n",
       "      <td>10522680</td>\n",
       "      <td>1.75min</td>\n",
       "      <td>OFVCL-EV</td>\n",
       "      <td>5/2/1970 18:58</td>\n",
       "      <td>1970</td>\n",
       "      <td>43.0</td>\n",
       "      <td>0.72</td>\n",
       "      <td>1.75</td>\n",
       "    </tr>\n",
       "    <tr>\n",
       "      <th>23137</th>\n",
       "      <td>Old Faithful</td>\n",
       "      <td>10525260</td>\n",
       "      <td>4.5min</td>\n",
       "      <td>OFVCL-EV</td>\n",
       "      <td>5/2/1970 19:41</td>\n",
       "      <td>1970</td>\n",
       "      <td>70.0</td>\n",
       "      <td>1.17</td>\n",
       "      <td>4.50</td>\n",
       "    </tr>\n",
       "    <tr>\n",
       "      <th>23138</th>\n",
       "      <td>Old Faithful</td>\n",
       "      <td>10529460</td>\n",
       "      <td>4min</td>\n",
       "      <td>OFVCL-EV</td>\n",
       "      <td>5/2/1970 20:51</td>\n",
       "      <td>1970</td>\n",
       "      <td>66.0</td>\n",
       "      <td>1.10</td>\n",
       "      <td>4.00</td>\n",
       "    </tr>\n",
       "    <tr>\n",
       "      <th>23139</th>\n",
       "      <td>Old Faithful</td>\n",
       "      <td>10533420</td>\n",
       "      <td>4min</td>\n",
       "      <td>OFVCL-EV</td>\n",
       "      <td>5/2/1970 21:57</td>\n",
       "      <td>1970</td>\n",
       "      <td>69.0</td>\n",
       "      <td>1.15</td>\n",
       "      <td>4.00</td>\n",
       "    </tr>\n",
       "    <tr>\n",
       "      <th>23145</th>\n",
       "      <td>Old Faithful</td>\n",
       "      <td>10593480</td>\n",
       "      <td>4min</td>\n",
       "      <td>OFVCL-EV</td>\n",
       "      <td>5/3/1970 14:38</td>\n",
       "      <td>1970</td>\n",
       "      <td>70.0</td>\n",
       "      <td>1.17</td>\n",
       "      <td>4.00</td>\n",
       "    </tr>\n",
       "    <tr>\n",
       "      <th>23146</th>\n",
       "      <td>Old Faithful</td>\n",
       "      <td>10597680</td>\n",
       "      <td>2min</td>\n",
       "      <td>OFVCL-EV</td>\n",
       "      <td>5/3/1970 15:48</td>\n",
       "      <td>1970</td>\n",
       "      <td>44.0</td>\n",
       "      <td>0.73</td>\n",
       "      <td>2.00</td>\n",
       "    </tr>\n",
       "    <tr>\n",
       "      <th>23147</th>\n",
       "      <td>Old Faithful</td>\n",
       "      <td>10600320</td>\n",
       "      <td>4.25min</td>\n",
       "      <td>OFVCL-EV</td>\n",
       "      <td>5/3/1970 16:32</td>\n",
       "      <td>1970</td>\n",
       "      <td>88.0</td>\n",
       "      <td>1.47</td>\n",
       "      <td>4.25</td>\n",
       "    </tr>\n",
       "    <tr>\n",
       "      <th>23148</th>\n",
       "      <td>Old Faithful</td>\n",
       "      <td>10605600</td>\n",
       "      <td>1.75min</td>\n",
       "      <td>OFVCL-EV</td>\n",
       "      <td>5/3/1970 18:00</td>\n",
       "      <td>1970</td>\n",
       "      <td>46.0</td>\n",
       "      <td>0.77</td>\n",
       "      <td>1.75</td>\n",
       "    </tr>\n",
       "    <tr>\n",
       "      <th>23150</th>\n",
       "      <td>Old Faithful</td>\n",
       "      <td>10608360</td>\n",
       "      <td>4min</td>\n",
       "      <td>OFVCL-EV</td>\n",
       "      <td>5/3/1970 18:46</td>\n",
       "      <td>1970</td>\n",
       "      <td>66.0</td>\n",
       "      <td>1.10</td>\n",
       "      <td>4.00</td>\n",
       "    </tr>\n",
       "    <tr>\n",
       "      <th>23152</th>\n",
       "      <td>Old Faithful</td>\n",
       "      <td>10612320</td>\n",
       "      <td>2.25min</td>\n",
       "      <td>OFVCL-EV</td>\n",
       "      <td>5/3/1970 19:52</td>\n",
       "      <td>1970</td>\n",
       "      <td>54.0</td>\n",
       "      <td>0.90</td>\n",
       "      <td>2.25</td>\n",
       "    </tr>\n",
       "    <tr>\n",
       "      <th>23153</th>\n",
       "      <td>Old Faithful</td>\n",
       "      <td>10615560</td>\n",
       "      <td>4min</td>\n",
       "      <td>OFVCL-EV</td>\n",
       "      <td>5/3/1970 20:46</td>\n",
       "      <td>1970</td>\n",
       "      <td>75.0</td>\n",
       "      <td>1.25</td>\n",
       "      <td>4.00</td>\n",
       "    </tr>\n",
       "    <tr>\n",
       "      <th>23154</th>\n",
       "      <td>Old Faithful</td>\n",
       "      <td>10620060</td>\n",
       "      <td>2min</td>\n",
       "      <td>OFVCL-EV</td>\n",
       "      <td>5/3/1970 22:01</td>\n",
       "      <td>1970</td>\n",
       "      <td>49.0</td>\n",
       "      <td>0.82</td>\n",
       "      <td>2.00</td>\n",
       "    </tr>\n",
       "    <tr>\n",
       "      <th>23155</th>\n",
       "      <td>Old Faithful</td>\n",
       "      <td>10679040</td>\n",
       "      <td>4.25min</td>\n",
       "      <td>OFVCL-EV</td>\n",
       "      <td>5/4/1970 14:24</td>\n",
       "      <td>1970</td>\n",
       "      <td>75.0</td>\n",
       "      <td>1.25</td>\n",
       "      <td>4.25</td>\n",
       "    </tr>\n",
       "    <tr>\n",
       "      <th>23158</th>\n",
       "      <td>Old Faithful</td>\n",
       "      <td>10683540</td>\n",
       "      <td>2.5min</td>\n",
       "      <td>OFVCL-EV</td>\n",
       "      <td>5/4/1970 15:39</td>\n",
       "      <td>1970</td>\n",
       "      <td>55.0</td>\n",
       "      <td>0.92</td>\n",
       "      <td>2.50</td>\n",
       "    </tr>\n",
       "    <tr>\n",
       "      <th>23159</th>\n",
       "      <td>Old Faithful</td>\n",
       "      <td>10686840</td>\n",
       "      <td>4.5min</td>\n",
       "      <td>OFVCL-EV</td>\n",
       "      <td>5/4/1970 16:34</td>\n",
       "      <td>1970</td>\n",
       "      <td>69.0</td>\n",
       "      <td>1.15</td>\n",
       "      <td>4.50</td>\n",
       "    </tr>\n",
       "    <tr>\n",
       "      <th>23167</th>\n",
       "      <td>Old Faithful</td>\n",
       "      <td>10690980</td>\n",
       "      <td>3+min</td>\n",
       "      <td>OFVCL-EV</td>\n",
       "      <td>5/4/1970 17:43</td>\n",
       "      <td>1970</td>\n",
       "      <td>88.0</td>\n",
       "      <td>1.47</td>\n",
       "      <td>3.00</td>\n",
       "    </tr>\n",
       "    <tr>\n",
       "      <th>23168</th>\n",
       "      <td>Old Faithful</td>\n",
       "      <td>10696260</td>\n",
       "      <td>2min</td>\n",
       "      <td>OFVCL-EV</td>\n",
       "      <td>5/4/1970 19:11</td>\n",
       "      <td>1970</td>\n",
       "      <td>38.0</td>\n",
       "      <td>0.63</td>\n",
       "      <td>2.00</td>\n",
       "    </tr>\n",
       "    <tr>\n",
       "      <th>23169</th>\n",
       "      <td>Old Faithful</td>\n",
       "      <td>10698540</td>\n",
       "      <td>4min</td>\n",
       "      <td>OFVCL-EV</td>\n",
       "      <td>5/4/1970 19:49</td>\n",
       "      <td>1970</td>\n",
       "      <td>83.0</td>\n",
       "      <td>1.38</td>\n",
       "      <td>4.00</td>\n",
       "    </tr>\n",
       "    <tr>\n",
       "      <th>23170</th>\n",
       "      <td>Old Faithful</td>\n",
       "      <td>10703520</td>\n",
       "      <td>2min</td>\n",
       "      <td>OFVCL-EV</td>\n",
       "      <td>5/4/1970 21:12</td>\n",
       "      <td>1970</td>\n",
       "      <td>58.0</td>\n",
       "      <td>0.97</td>\n",
       "      <td>2.00</td>\n",
       "    </tr>\n",
       "    <tr>\n",
       "      <th>23175</th>\n",
       "      <td>Old Faithful</td>\n",
       "      <td>10767180</td>\n",
       "      <td>2.5min</td>\n",
       "      <td>OFVCL-EV</td>\n",
       "      <td>5/5/1970 14:53</td>\n",
       "      <td>1970</td>\n",
       "      <td>72.0</td>\n",
       "      <td>1.20</td>\n",
       "      <td>2.50</td>\n",
       "    </tr>\n",
       "    <tr>\n",
       "      <th>23176</th>\n",
       "      <td>Old Faithful</td>\n",
       "      <td>10771500</td>\n",
       "      <td>2.75min</td>\n",
       "      <td>OFVCL-EV</td>\n",
       "      <td>5/5/1970 16:05</td>\n",
       "      <td>1970</td>\n",
       "      <td>63.0</td>\n",
       "      <td>1.05</td>\n",
       "      <td>2.75</td>\n",
       "    </tr>\n",
       "    <tr>\n",
       "      <th>23178</th>\n",
       "      <td>Old Faithful</td>\n",
       "      <td>10783800</td>\n",
       "      <td>2.25</td>\n",
       "      <td>OFVCL-EV</td>\n",
       "      <td>5/5/1970 19:30</td>\n",
       "      <td>1970</td>\n",
       "      <td>65.0</td>\n",
       "      <td>1.08</td>\n",
       "      <td>2.25</td>\n",
       "    </tr>\n",
       "    <tr>\n",
       "      <th>23180</th>\n",
       "      <td>Old Faithful</td>\n",
       "      <td>10787700</td>\n",
       "      <td>4min</td>\n",
       "      <td>OFVCL-EV</td>\n",
       "      <td>5/5/1970 20:35</td>\n",
       "      <td>1970</td>\n",
       "      <td>74.0</td>\n",
       "      <td>1.23</td>\n",
       "      <td>4.00</td>\n",
       "    </tr>\n",
       "    <tr>\n",
       "      <th>23181</th>\n",
       "      <td>Old Faithful</td>\n",
       "      <td>10792140</td>\n",
       "      <td>2min</td>\n",
       "      <td>OFVCL-EV</td>\n",
       "      <td>5/5/1970 21:49</td>\n",
       "      <td>1970</td>\n",
       "      <td>59.0</td>\n",
       "      <td>0.98</td>\n",
       "      <td>2.00</td>\n",
       "    </tr>\n",
       "    <tr>\n",
       "      <th>23186</th>\n",
       "      <td>Old Faithful</td>\n",
       "      <td>10852680</td>\n",
       "      <td>4:50</td>\n",
       "      <td>OFVCL-EV</td>\n",
       "      <td>5/6/1970 14:38</td>\n",
       "      <td>1970</td>\n",
       "      <td>69.0</td>\n",
       "      <td>1.15</td>\n",
       "      <td>4.50</td>\n",
       "    </tr>\n",
       "    <tr>\n",
       "      <th>23189</th>\n",
       "      <td>Old Faithful</td>\n",
       "      <td>10872840</td>\n",
       "      <td>3.5min</td>\n",
       "      <td>OFVCL-EV</td>\n",
       "      <td>5/6/1970 20:14</td>\n",
       "      <td>1970</td>\n",
       "      <td>58.0</td>\n",
       "      <td>0.97</td>\n",
       "      <td>3.50</td>\n",
       "    </tr>\n",
       "    <tr>\n",
       "      <th>...</th>\n",
       "      <td>...</td>\n",
       "      <td>...</td>\n",
       "      <td>...</td>\n",
       "      <td>...</td>\n",
       "      <td>...</td>\n",
       "      <td>...</td>\n",
       "      <td>...</td>\n",
       "      <td>...</td>\n",
       "      <td>...</td>\n",
       "    </tr>\n",
       "    <tr>\n",
       "      <th>984704</th>\n",
       "      <td>Old Faithful</td>\n",
       "      <td>725491080</td>\n",
       "      <td>1m52s</td>\n",
       "      <td>OFVCL-EV</td>\n",
       "      <td>12/27/1992 21:18</td>\n",
       "      <td>1992</td>\n",
       "      <td>51.0</td>\n",
       "      <td>0.85</td>\n",
       "      <td>1.52</td>\n",
       "    </tr>\n",
       "    <tr>\n",
       "      <th>984705</th>\n",
       "      <td>Old Faithful</td>\n",
       "      <td>725494140</td>\n",
       "      <td>4m24s</td>\n",
       "      <td>OFVCL-EV</td>\n",
       "      <td>12/27/1992 22:09</td>\n",
       "      <td>1992</td>\n",
       "      <td>88.0</td>\n",
       "      <td>1.47</td>\n",
       "      <td>4.24</td>\n",
       "    </tr>\n",
       "    <tr>\n",
       "      <th>984706</th>\n",
       "      <td>Old Faithful</td>\n",
       "      <td>725499420</td>\n",
       "      <td>1m54s</td>\n",
       "      <td>OFVCL-EV</td>\n",
       "      <td>12/27/1992 23:37</td>\n",
       "      <td>1992</td>\n",
       "      <td>55.0</td>\n",
       "      <td>0.92</td>\n",
       "      <td>1.54</td>\n",
       "    </tr>\n",
       "    <tr>\n",
       "      <th>984809</th>\n",
       "      <td>Old Faithful</td>\n",
       "      <td>725560620</td>\n",
       "      <td>4m28s</td>\n",
       "      <td>OFVCL-EV</td>\n",
       "      <td>12/28/1992 16:37</td>\n",
       "      <td>1992</td>\n",
       "      <td>81.0</td>\n",
       "      <td>1.35</td>\n",
       "      <td>4.28</td>\n",
       "    </tr>\n",
       "    <tr>\n",
       "      <th>984810</th>\n",
       "      <td>Old Faithful</td>\n",
       "      <td>725565480</td>\n",
       "      <td>3m59s</td>\n",
       "      <td>OFVCL-EV</td>\n",
       "      <td>12/28/1992 17:58</td>\n",
       "      <td>1992</td>\n",
       "      <td>80.0</td>\n",
       "      <td>1.33</td>\n",
       "      <td>3.59</td>\n",
       "    </tr>\n",
       "    <tr>\n",
       "      <th>984811</th>\n",
       "      <td>Old Faithful</td>\n",
       "      <td>725570280</td>\n",
       "      <td>4m43s</td>\n",
       "      <td>OFVCL-EV</td>\n",
       "      <td>12/28/1992 19:18</td>\n",
       "      <td>1992</td>\n",
       "      <td>92.0</td>\n",
       "      <td>1.53</td>\n",
       "      <td>4.43</td>\n",
       "    </tr>\n",
       "    <tr>\n",
       "      <th>984812</th>\n",
       "      <td>Old Faithful</td>\n",
       "      <td>725575800</td>\n",
       "      <td>4m15s</td>\n",
       "      <td>OFVCL-EV</td>\n",
       "      <td>12/28/1992 20:50</td>\n",
       "      <td>1992</td>\n",
       "      <td>83.0</td>\n",
       "      <td>1.38</td>\n",
       "      <td>4.15</td>\n",
       "    </tr>\n",
       "    <tr>\n",
       "      <th>984813</th>\n",
       "      <td>Old Faithful</td>\n",
       "      <td>725580780</td>\n",
       "      <td>4m18s</td>\n",
       "      <td>OFVCL-EV</td>\n",
       "      <td>12/28/1992 22:13</td>\n",
       "      <td>1992</td>\n",
       "      <td>75.0</td>\n",
       "      <td>1.25</td>\n",
       "      <td>4.18</td>\n",
       "    </tr>\n",
       "    <tr>\n",
       "      <th>984814</th>\n",
       "      <td>Old Faithful</td>\n",
       "      <td>725585280</td>\n",
       "      <td>3m58s</td>\n",
       "      <td>OFVCL-EV</td>\n",
       "      <td>12/28/1992 23:28</td>\n",
       "      <td>1992</td>\n",
       "      <td>90.0</td>\n",
       "      <td>1.50</td>\n",
       "      <td>3.58</td>\n",
       "    </tr>\n",
       "    <tr>\n",
       "      <th>984827</th>\n",
       "      <td>Old Faithful</td>\n",
       "      <td>725646960</td>\n",
       "      <td>1m58s</td>\n",
       "      <td>OFVCL-EV</td>\n",
       "      <td>12/29/1992 16:36</td>\n",
       "      <td>1992</td>\n",
       "      <td>55.0</td>\n",
       "      <td>0.92</td>\n",
       "      <td>1.58</td>\n",
       "    </tr>\n",
       "    <tr>\n",
       "      <th>984828</th>\n",
       "      <td>Old Faithful</td>\n",
       "      <td>725650260</td>\n",
       "      <td>4m40s</td>\n",
       "      <td>OFVCL-EV</td>\n",
       "      <td>12/29/1992 17:31</td>\n",
       "      <td>1992</td>\n",
       "      <td>88.0</td>\n",
       "      <td>1.47</td>\n",
       "      <td>4.40</td>\n",
       "    </tr>\n",
       "    <tr>\n",
       "      <th>984829</th>\n",
       "      <td>Old Faithful</td>\n",
       "      <td>725655540</td>\n",
       "      <td>1m45s</td>\n",
       "      <td>OFVCL-EV</td>\n",
       "      <td>12/29/1992 18:59</td>\n",
       "      <td>1992</td>\n",
       "      <td>53.0</td>\n",
       "      <td>0.88</td>\n",
       "      <td>1.45</td>\n",
       "    </tr>\n",
       "    <tr>\n",
       "      <th>984830</th>\n",
       "      <td>Old Faithful</td>\n",
       "      <td>725658720</td>\n",
       "      <td>4m38s</td>\n",
       "      <td>OFVCL-EV</td>\n",
       "      <td>12/29/1992 19:52</td>\n",
       "      <td>1992</td>\n",
       "      <td>91.0</td>\n",
       "      <td>1.52</td>\n",
       "      <td>4.38</td>\n",
       "    </tr>\n",
       "    <tr>\n",
       "      <th>984831</th>\n",
       "      <td>Old Faithful</td>\n",
       "      <td>725664180</td>\n",
       "      <td>1m49s</td>\n",
       "      <td>OFVCL-EV</td>\n",
       "      <td>12/29/1992 21:23</td>\n",
       "      <td>1992</td>\n",
       "      <td>59.0</td>\n",
       "      <td>0.98</td>\n",
       "      <td>1.49</td>\n",
       "    </tr>\n",
       "    <tr>\n",
       "      <th>984832</th>\n",
       "      <td>Old Faithful</td>\n",
       "      <td>725667720</td>\n",
       "      <td>4m32s</td>\n",
       "      <td>OFVCL-EV</td>\n",
       "      <td>12/29/1992 22:22</td>\n",
       "      <td>1992</td>\n",
       "      <td>88.0</td>\n",
       "      <td>1.47</td>\n",
       "      <td>4.32</td>\n",
       "    </tr>\n",
       "    <tr>\n",
       "      <th>984845</th>\n",
       "      <td>Old Faithful</td>\n",
       "      <td>725731980</td>\n",
       "      <td>2m12s</td>\n",
       "      <td>OFVCL-EV</td>\n",
       "      <td>12/30/1992 16:13</td>\n",
       "      <td>1992</td>\n",
       "      <td>51.0</td>\n",
       "      <td>0.85</td>\n",
       "      <td>2.12</td>\n",
       "    </tr>\n",
       "    <tr>\n",
       "      <th>984846</th>\n",
       "      <td>Old Faithful</td>\n",
       "      <td>725735040</td>\n",
       "      <td>4m40s</td>\n",
       "      <td>OFVCL-EV</td>\n",
       "      <td>12/30/1992 17:04</td>\n",
       "      <td>1992</td>\n",
       "      <td>83.0</td>\n",
       "      <td>1.38</td>\n",
       "      <td>4.40</td>\n",
       "    </tr>\n",
       "    <tr>\n",
       "      <th>984847</th>\n",
       "      <td>Old Faithful</td>\n",
       "      <td>725740020</td>\n",
       "      <td>2m30s</td>\n",
       "      <td>OFVCL-EV</td>\n",
       "      <td>12/30/1992 18:27</td>\n",
       "      <td>1992</td>\n",
       "      <td>69.0</td>\n",
       "      <td>1.15</td>\n",
       "      <td>2.30</td>\n",
       "    </tr>\n",
       "    <tr>\n",
       "      <th>984848</th>\n",
       "      <td>Old Faithful</td>\n",
       "      <td>725744160</td>\n",
       "      <td>4m37s</td>\n",
       "      <td>OFVCL-EV</td>\n",
       "      <td>12/30/1992 19:36</td>\n",
       "      <td>1992</td>\n",
       "      <td>86.0</td>\n",
       "      <td>1.43</td>\n",
       "      <td>4.37</td>\n",
       "    </tr>\n",
       "    <tr>\n",
       "      <th>984849</th>\n",
       "      <td>Old Faithful</td>\n",
       "      <td>725749320</td>\n",
       "      <td>1m56s</td>\n",
       "      <td>OFVCL-EV</td>\n",
       "      <td>12/30/1992 21:02</td>\n",
       "      <td>1992</td>\n",
       "      <td>55.0</td>\n",
       "      <td>0.92</td>\n",
       "      <td>1.56</td>\n",
       "    </tr>\n",
       "    <tr>\n",
       "      <th>984850</th>\n",
       "      <td>Old Faithful</td>\n",
       "      <td>725752620</td>\n",
       "      <td>4m34s</td>\n",
       "      <td>OFVCL-EV</td>\n",
       "      <td>12/30/1992 21:57</td>\n",
       "      <td>1992</td>\n",
       "      <td>96.0</td>\n",
       "      <td>1.60</td>\n",
       "      <td>4.34</td>\n",
       "    </tr>\n",
       "    <tr>\n",
       "      <th>984851</th>\n",
       "      <td>Old Faithful</td>\n",
       "      <td>725758380</td>\n",
       "      <td>1m50s</td>\n",
       "      <td>OFVCL-EV</td>\n",
       "      <td>12/30/1992 23:33</td>\n",
       "      <td>1992</td>\n",
       "      <td>50.0</td>\n",
       "      <td>0.83</td>\n",
       "      <td>1.50</td>\n",
       "    </tr>\n",
       "    <tr>\n",
       "      <th>984853</th>\n",
       "      <td>Old Faithful</td>\n",
       "      <td>725766840</td>\n",
       "      <td>1m57s</td>\n",
       "      <td>OFVCL-EV</td>\n",
       "      <td>12/31/1992 1:54</td>\n",
       "      <td>1992</td>\n",
       "      <td>50.0</td>\n",
       "      <td>0.83</td>\n",
       "      <td>1.57</td>\n",
       "    </tr>\n",
       "    <tr>\n",
       "      <th>984864</th>\n",
       "      <td>Old Faithful</td>\n",
       "      <td>725818260</td>\n",
       "      <td>2m10s</td>\n",
       "      <td>OFVCL-EV</td>\n",
       "      <td>12/31/1992 16:11</td>\n",
       "      <td>1992</td>\n",
       "      <td>56.0</td>\n",
       "      <td>0.93</td>\n",
       "      <td>2.10</td>\n",
       "    </tr>\n",
       "    <tr>\n",
       "      <th>984865</th>\n",
       "      <td>Old Faithful</td>\n",
       "      <td>725821620</td>\n",
       "      <td>4m48s</td>\n",
       "      <td>OFVCL-EV</td>\n",
       "      <td>12/31/1992 17:07</td>\n",
       "      <td>1992</td>\n",
       "      <td>93.0</td>\n",
       "      <td>1.55</td>\n",
       "      <td>4.48</td>\n",
       "    </tr>\n",
       "    <tr>\n",
       "      <th>984866</th>\n",
       "      <td>Old Faithful</td>\n",
       "      <td>725827200</td>\n",
       "      <td>2m06s</td>\n",
       "      <td>OFVCL-EV</td>\n",
       "      <td>12/31/1992 18:40</td>\n",
       "      <td>1992</td>\n",
       "      <td>52.0</td>\n",
       "      <td>0.87</td>\n",
       "      <td>2.06</td>\n",
       "    </tr>\n",
       "    <tr>\n",
       "      <th>984867</th>\n",
       "      <td>Old Faithful</td>\n",
       "      <td>725830320</td>\n",
       "      <td>4m29s</td>\n",
       "      <td>OFVCL-EV</td>\n",
       "      <td>12/31/1992 19:32</td>\n",
       "      <td>1992</td>\n",
       "      <td>88.0</td>\n",
       "      <td>1.47</td>\n",
       "      <td>4.29</td>\n",
       "    </tr>\n",
       "    <tr>\n",
       "      <th>984868</th>\n",
       "      <td>Old Faithful</td>\n",
       "      <td>725835600</td>\n",
       "      <td>1m45s</td>\n",
       "      <td>OFVCL-EV</td>\n",
       "      <td>12/31/1992 21:00</td>\n",
       "      <td>1992</td>\n",
       "      <td>60.0</td>\n",
       "      <td>1.00</td>\n",
       "      <td>1.45</td>\n",
       "    </tr>\n",
       "    <tr>\n",
       "      <th>984869</th>\n",
       "      <td>Old Faithful</td>\n",
       "      <td>725839200</td>\n",
       "      <td>4m27s</td>\n",
       "      <td>OFVCL-EV</td>\n",
       "      <td>12/31/1992 22:00</td>\n",
       "      <td>1992</td>\n",
       "      <td>78.0</td>\n",
       "      <td>1.30</td>\n",
       "      <td>4.27</td>\n",
       "    </tr>\n",
       "    <tr>\n",
       "      <th>984870</th>\n",
       "      <td>Old Faithful</td>\n",
       "      <td>725843880</td>\n",
       "      <td>2m04s</td>\n",
       "      <td>OFVCL-EV</td>\n",
       "      <td>12/31/1992 23:18</td>\n",
       "      <td>1992</td>\n",
       "      <td>77.0</td>\n",
       "      <td>1.28</td>\n",
       "      <td>2.04</td>\n",
       "    </tr>\n",
       "  </tbody>\n",
       "</table>\n",
       "<p>16071 rows × 9 columns</p>\n",
       "</div>"
      ],
      "text/plain": [
       "                  geyser  eruption_time_epoch duration  observer  \\\n",
       "eruptionID                                                         \n",
       "23132       Old Faithful             10506540     4min  OFVCL-EV   \n",
       "23133       Old Faithful             10510800   1.5min  OFVCL-EV   \n",
       "23134       Old Faithful             10513800    4.25m  OFVCL-EV   \n",
       "23135       Old Faithful             10517820       4m  OFVCL-EV   \n",
       "23136       Old Faithful             10522680  1.75min  OFVCL-EV   \n",
       "23137       Old Faithful             10525260   4.5min  OFVCL-EV   \n",
       "23138       Old Faithful             10529460     4min  OFVCL-EV   \n",
       "23139       Old Faithful             10533420     4min  OFVCL-EV   \n",
       "23145       Old Faithful             10593480     4min  OFVCL-EV   \n",
       "23146       Old Faithful             10597680     2min  OFVCL-EV   \n",
       "23147       Old Faithful             10600320  4.25min  OFVCL-EV   \n",
       "23148       Old Faithful             10605600  1.75min  OFVCL-EV   \n",
       "23150       Old Faithful             10608360     4min  OFVCL-EV   \n",
       "23152       Old Faithful             10612320  2.25min  OFVCL-EV   \n",
       "23153       Old Faithful             10615560     4min  OFVCL-EV   \n",
       "23154       Old Faithful             10620060     2min  OFVCL-EV   \n",
       "23155       Old Faithful             10679040  4.25min  OFVCL-EV   \n",
       "23158       Old Faithful             10683540   2.5min  OFVCL-EV   \n",
       "23159       Old Faithful             10686840   4.5min  OFVCL-EV   \n",
       "23167       Old Faithful             10690980    3+min  OFVCL-EV   \n",
       "23168       Old Faithful             10696260     2min  OFVCL-EV   \n",
       "23169       Old Faithful             10698540     4min  OFVCL-EV   \n",
       "23170       Old Faithful             10703520     2min  OFVCL-EV   \n",
       "23175       Old Faithful             10767180   2.5min  OFVCL-EV   \n",
       "23176       Old Faithful             10771500  2.75min  OFVCL-EV   \n",
       "23178       Old Faithful             10783800     2.25  OFVCL-EV   \n",
       "23180       Old Faithful             10787700     4min  OFVCL-EV   \n",
       "23181       Old Faithful             10792140     2min  OFVCL-EV   \n",
       "23186       Old Faithful             10852680     4:50  OFVCL-EV   \n",
       "23189       Old Faithful             10872840   3.5min  OFVCL-EV   \n",
       "...                  ...                  ...      ...       ...   \n",
       "984704      Old Faithful            725491080    1m52s  OFVCL-EV   \n",
       "984705      Old Faithful            725494140    4m24s  OFVCL-EV   \n",
       "984706      Old Faithful            725499420    1m54s  OFVCL-EV   \n",
       "984809      Old Faithful            725560620    4m28s  OFVCL-EV   \n",
       "984810      Old Faithful            725565480    3m59s  OFVCL-EV   \n",
       "984811      Old Faithful            725570280    4m43s  OFVCL-EV   \n",
       "984812      Old Faithful            725575800    4m15s  OFVCL-EV   \n",
       "984813      Old Faithful            725580780    4m18s  OFVCL-EV   \n",
       "984814      Old Faithful            725585280    3m58s  OFVCL-EV   \n",
       "984827      Old Faithful            725646960    1m58s  OFVCL-EV   \n",
       "984828      Old Faithful            725650260    4m40s  OFVCL-EV   \n",
       "984829      Old Faithful            725655540    1m45s  OFVCL-EV   \n",
       "984830      Old Faithful            725658720    4m38s  OFVCL-EV   \n",
       "984831      Old Faithful            725664180    1m49s  OFVCL-EV   \n",
       "984832      Old Faithful            725667720    4m32s  OFVCL-EV   \n",
       "984845      Old Faithful            725731980    2m12s  OFVCL-EV   \n",
       "984846      Old Faithful            725735040    4m40s  OFVCL-EV   \n",
       "984847      Old Faithful            725740020    2m30s  OFVCL-EV   \n",
       "984848      Old Faithful            725744160    4m37s  OFVCL-EV   \n",
       "984849      Old Faithful            725749320    1m56s  OFVCL-EV   \n",
       "984850      Old Faithful            725752620    4m34s  OFVCL-EV   \n",
       "984851      Old Faithful            725758380    1m50s  OFVCL-EV   \n",
       "984853      Old Faithful            725766840    1m57s  OFVCL-EV   \n",
       "984864      Old Faithful            725818260    2m10s  OFVCL-EV   \n",
       "984865      Old Faithful            725821620    4m48s  OFVCL-EV   \n",
       "984866      Old Faithful            725827200    2m06s  OFVCL-EV   \n",
       "984867      Old Faithful            725830320    4m29s  OFVCL-EV   \n",
       "984868      Old Faithful            725835600    1m45s  OFVCL-EV   \n",
       "984869      Old Faithful            725839200    4m27s  OFVCL-EV   \n",
       "984870      Old Faithful            725843880    2m04s  OFVCL-EV   \n",
       "\n",
       "                        date  year  waiting_min  waiting_hr   dur  \n",
       "eruptionID                                                         \n",
       "23132         5/2/1970 14:29  1970         71.0        1.18  4.00  \n",
       "23133         5/2/1970 15:40  1970         50.0        0.83  1.50  \n",
       "23134         5/2/1970 16:30  1970         67.0        1.12  4.25  \n",
       "23135         5/2/1970 17:37  1970         81.0        1.35  4.00  \n",
       "23136         5/2/1970 18:58  1970         43.0        0.72  1.75  \n",
       "23137         5/2/1970 19:41  1970         70.0        1.17  4.50  \n",
       "23138         5/2/1970 20:51  1970         66.0        1.10  4.00  \n",
       "23139         5/2/1970 21:57  1970         69.0        1.15  4.00  \n",
       "23145         5/3/1970 14:38  1970         70.0        1.17  4.00  \n",
       "23146         5/3/1970 15:48  1970         44.0        0.73  2.00  \n",
       "23147         5/3/1970 16:32  1970         88.0        1.47  4.25  \n",
       "23148         5/3/1970 18:00  1970         46.0        0.77  1.75  \n",
       "23150         5/3/1970 18:46  1970         66.0        1.10  4.00  \n",
       "23152         5/3/1970 19:52  1970         54.0        0.90  2.25  \n",
       "23153         5/3/1970 20:46  1970         75.0        1.25  4.00  \n",
       "23154         5/3/1970 22:01  1970         49.0        0.82  2.00  \n",
       "23155         5/4/1970 14:24  1970         75.0        1.25  4.25  \n",
       "23158         5/4/1970 15:39  1970         55.0        0.92  2.50  \n",
       "23159         5/4/1970 16:34  1970         69.0        1.15  4.50  \n",
       "23167         5/4/1970 17:43  1970         88.0        1.47  3.00  \n",
       "23168         5/4/1970 19:11  1970         38.0        0.63  2.00  \n",
       "23169         5/4/1970 19:49  1970         83.0        1.38  4.00  \n",
       "23170         5/4/1970 21:12  1970         58.0        0.97  2.00  \n",
       "23175         5/5/1970 14:53  1970         72.0        1.20  2.50  \n",
       "23176         5/5/1970 16:05  1970         63.0        1.05  2.75  \n",
       "23178         5/5/1970 19:30  1970         65.0        1.08  2.25  \n",
       "23180         5/5/1970 20:35  1970         74.0        1.23  4.00  \n",
       "23181         5/5/1970 21:49  1970         59.0        0.98  2.00  \n",
       "23186         5/6/1970 14:38  1970         69.0        1.15  4.50  \n",
       "23189         5/6/1970 20:14  1970         58.0        0.97  3.50  \n",
       "...                      ...   ...          ...         ...   ...  \n",
       "984704      12/27/1992 21:18  1992         51.0        0.85  1.52  \n",
       "984705      12/27/1992 22:09  1992         88.0        1.47  4.24  \n",
       "984706      12/27/1992 23:37  1992         55.0        0.92  1.54  \n",
       "984809      12/28/1992 16:37  1992         81.0        1.35  4.28  \n",
       "984810      12/28/1992 17:58  1992         80.0        1.33  3.59  \n",
       "984811      12/28/1992 19:18  1992         92.0        1.53  4.43  \n",
       "984812      12/28/1992 20:50  1992         83.0        1.38  4.15  \n",
       "984813      12/28/1992 22:13  1992         75.0        1.25  4.18  \n",
       "984814      12/28/1992 23:28  1992         90.0        1.50  3.58  \n",
       "984827      12/29/1992 16:36  1992         55.0        0.92  1.58  \n",
       "984828      12/29/1992 17:31  1992         88.0        1.47  4.40  \n",
       "984829      12/29/1992 18:59  1992         53.0        0.88  1.45  \n",
       "984830      12/29/1992 19:52  1992         91.0        1.52  4.38  \n",
       "984831      12/29/1992 21:23  1992         59.0        0.98  1.49  \n",
       "984832      12/29/1992 22:22  1992         88.0        1.47  4.32  \n",
       "984845      12/30/1992 16:13  1992         51.0        0.85  2.12  \n",
       "984846      12/30/1992 17:04  1992         83.0        1.38  4.40  \n",
       "984847      12/30/1992 18:27  1992         69.0        1.15  2.30  \n",
       "984848      12/30/1992 19:36  1992         86.0        1.43  4.37  \n",
       "984849      12/30/1992 21:02  1992         55.0        0.92  1.56  \n",
       "984850      12/30/1992 21:57  1992         96.0        1.60  4.34  \n",
       "984851      12/30/1992 23:33  1992         50.0        0.83  1.50  \n",
       "984853       12/31/1992 1:54  1992         50.0        0.83  1.57  \n",
       "984864      12/31/1992 16:11  1992         56.0        0.93  2.10  \n",
       "984865      12/31/1992 17:07  1992         93.0        1.55  4.48  \n",
       "984866      12/31/1992 18:40  1992         52.0        0.87  2.06  \n",
       "984867      12/31/1992 19:32  1992         88.0        1.47  4.29  \n",
       "984868      12/31/1992 21:00  1992         60.0        1.00  1.45  \n",
       "984869      12/31/1992 22:00  1992         78.0        1.30  4.27  \n",
       "984870      12/31/1992 23:18  1992         77.0        1.28  2.04  \n",
       "\n",
       "[16071 rows x 9 columns]"
      ]
     },
     "execution_count": 26,
     "metadata": {},
     "output_type": "execute_result"
    }
   ],
   "source": [
    "data.drop(['Unnamed: 0'], axis=1)\n"
   ]
  },
  {
   "cell_type": "code",
   "execution_count": 27,
   "metadata": {},
   "outputs": [
    {
     "data": {
      "text/plain": [
       "eruptionID             13248\n",
       "geyser                 13248\n",
       "eruption_time_epoch    13248\n",
       "duration               13248\n",
       "observer               13248\n",
       "date                   13248\n",
       "year                   13248\n",
       "waiting_min            13248\n",
       "waiting_hr             13248\n",
       "dur                    13248\n",
       "dtype: int64"
      ]
     },
     "execution_count": 27,
     "metadata": {},
     "output_type": "execute_result"
    }
   ],
   "source": [
    "early_mode = early.loc[(early[\"waiting_min\"] >= 52) & (early[\"waiting_min\"] <=100)]\n",
    "early_mode.count()"
   ]
  },
  {
   "cell_type": "code",
   "execution_count": 28,
   "metadata": {},
   "outputs": [
    {
     "name": "stdout",
     "output_type": "stream",
     "text": [
      "Shape:  (13248, 1) (13248, 1)\n"
     ]
    }
   ],
   "source": [
    "# shape data\n",
    "X = early_mode[\"waiting_min\"].values.reshape(-1, 1)\n",
    "y = early_mode[\"dur\"].values.reshape(-1, 1)\n",
    "print(\"Shape: \", X.shape, y.shape)"
   ]
  },
  {
   "cell_type": "code",
   "execution_count": 29,
   "metadata": {},
   "outputs": [
    {
     "data": {
      "text/plain": [
       "Text(0,0.5,'Duration of Eruption Minutes')"
      ]
     },
     "execution_count": 29,
     "metadata": {},
     "output_type": "execute_result"
    },
    {
     "data": {
      "image/png": "[encoded data removed]",
      "text/plain": [
       "<Figure size 432x288 with 1 Axes>"
      ]
     },
     "metadata": {
      "needs_background": "light"
     },
     "output_type": "display_data"
    }
   ],
   "source": [
    "# Plot the data to see if linear relationship exists\n",
    "plt.scatter(X, y)\n",
    "plt.xlabel(\"Waiting Time Minutes\")\n",
    "plt.ylabel(\"Duration of Eruption Minutes\")"
   ]
  },
  {
   "cell_type": "code",
   "execution_count": 30,
   "metadata": {},
   "outputs": [],
   "source": [
    "# Use sklearn's `train_test_split` to split the data into training and testing\n",
    "from sklearn.model_selection import train_test_split\n",
    "X_train, X_test, y_train, y_test = train_test_split(X, y, random_state=42)"
   ]
  },
  {
   "cell_type": "code",
   "execution_count": 31,
   "metadata": {},
   "outputs": [],
   "source": [
    "# Create the model\n",
    "from sklearn.linear_model import LinearRegression\n",
    "model = LinearRegression()"
   ]
  },
  {
   "cell_type": "code",
   "execution_count": 32,
   "metadata": {},
   "outputs": [
    {
     "data": {
      "text/plain": [
       "LinearRegression(copy_X=True, fit_intercept=True, n_jobs=1, normalize=False)"
      ]
     },
     "execution_count": 32,
     "metadata": {},
     "output_type": "execute_result"
    }
   ],
   "source": [
    "# Fit the model to the training data. \n",
    "model.fit(X_train, y_train)"
   ]
  },
  {
   "cell_type": "code",
   "execution_count": 33,
   "metadata": {},
   "outputs": [
    {
     "name": "stdout",
     "output_type": "stream",
     "text": [
      "Mean Squared Error (MSE): 0.4080660812624976\n",
      "R-squared (R2 ): 0.5022906575627955\n"
     ]
    }
   ],
   "source": [
    "# Calculate the mean_squared_error and the r-squared value\n",
    "from sklearn.metrics import mean_squared_error, r2_score\n",
    "\n",
    "# Use our model to make predictions\n",
    "predicted = model.predict(X_test)\n",
    "\n",
    "# Score the predictions with mse and r2\n",
    "mse = mean_squared_error(y_test, predicted)\n",
    "r2 = r2_score(y_test, predicted)\n",
    "\n",
    "print(f\"Mean Squared Error (MSE): {mse}\")\n",
    "print(f\"R-squared (R2 ): {r2}\")"
   ]
  },
  {
   "cell_type": "code",
   "execution_count": 34,
   "metadata": {},
   "outputs": [
    {
     "name": "stdout",
     "output_type": "stream",
     "text": [
      "[-1.22775588]\n",
      "[[0.06699167]]\n"
     ]
    }
   ],
   "source": [
    "#To retrieve the intercept:\n",
    "print(model.intercept_)\n",
    "#For retrieving the slope:\n",
    "print(model.coef_)"
   ]
  },
  {
   "cell_type": "markdown",
   "metadata": {},
   "source": [
    "### Linear Regression of  Late (1992-2019) 2nd Mode"
   ]
  },
  {
   "cell_type": "code",
   "execution_count": 35,
   "metadata": {},
   "outputs": [
    {
     "data": {
      "text/html": [
       "<div>\n",
       "<style scoped>\n",
       "    .dataframe tbody tr th:only-of-type {\n",
       "        vertical-align: middle;\n",
       "    }\n",
       "\n",
       "    .dataframe tbody tr th {\n",
       "        vertical-align: top;\n",
       "    }\n",
       "\n",
       "    .dataframe thead th {\n",
       "        text-align: right;\n",
       "    }\n",
       "</style>\n",
       "<table border=\"1\" class=\"dataframe\">\n",
       "  <thead>\n",
       "    <tr style=\"text-align: right;\">\n",
       "      <th></th>\n",
       "      <th>year</th>\n",
       "      <th>waiting_min</th>\n",
       "      <th>dur</th>\n",
       "    </tr>\n",
       "    <tr>\n",
       "      <th>eruptionID</th>\n",
       "      <th></th>\n",
       "      <th></th>\n",
       "      <th></th>\n",
       "    </tr>\n",
       "  </thead>\n",
       "  <tbody>\n",
       "    <tr>\n",
       "      <th>1090262</th>\n",
       "      <td>1993</td>\n",
       "      <td>84.0</td>\n",
       "      <td>3.51</td>\n",
       "    </tr>\n",
       "    <tr>\n",
       "      <th>1090263</th>\n",
       "      <td>1993</td>\n",
       "      <td>80.0</td>\n",
       "      <td>4.16</td>\n",
       "    </tr>\n",
       "    <tr>\n",
       "      <th>1090264</th>\n",
       "      <td>1993</td>\n",
       "      <td>71.0</td>\n",
       "      <td>4.11</td>\n",
       "    </tr>\n",
       "    <tr>\n",
       "      <th>1090265</th>\n",
       "      <td>1993</td>\n",
       "      <td>89.0</td>\n",
       "      <td>4.00</td>\n",
       "    </tr>\n",
       "    <tr>\n",
       "      <th>1090266</th>\n",
       "      <td>1993</td>\n",
       "      <td>55.0</td>\n",
       "      <td>2.30</td>\n",
       "    </tr>\n",
       "  </tbody>\n",
       "</table>\n",
       "</div>"
      ],
      "text/plain": [
       "            year  waiting_min   dur\n",
       "eruptionID                         \n",
       "1090262     1993         84.0  3.51\n",
       "1090263     1993         80.0  4.16\n",
       "1090264     1993         71.0  4.11\n",
       "1090265     1993         89.0  4.00\n",
       "1090266     1993         55.0  2.30"
      ]
     },
     "execution_count": 35,
     "metadata": {},
     "output_type": "execute_result"
    }
   ],
   "source": [
    "data2= pd.read_csv('truncated_late.csv', index_col='eruptionID')\n",
    "data2.head()"
   ]
  },
  {
   "cell_type": "code",
   "execution_count": 36,
   "metadata": {},
   "outputs": [],
   "source": [
    "data3 = data2.loc[(data2[\"dur\"] <10)]"
   ]
  },
  {
   "cell_type": "code",
   "execution_count": 37,
   "metadata": {},
   "outputs": [
    {
     "data": {
      "text/plain": [
       "year           1744\n",
       "waiting_min    1744\n",
       "dur            1744\n",
       "dtype: int64"
      ]
     },
     "execution_count": 37,
     "metadata": {},
     "output_type": "execute_result"
    }
   ],
   "source": [
    "late_mode = data3.loc[(data2[\"waiting_min\"] >= 68) & (data3[\"waiting_min\"] <=104)]\n",
    "late_mode.count()"
   ]
  },
  {
   "cell_type": "code",
   "execution_count": 38,
   "metadata": {},
   "outputs": [
    {
     "name": "stdout",
     "output_type": "stream",
     "text": [
      "Shape:  (1744, 1) (1744, 1)\n"
     ]
    }
   ],
   "source": [
    "# shape data\n",
    "X = late_mode[\"waiting_min\"].values.reshape(-1, 1)\n",
    "y = late_mode[\"dur\"].values.reshape(-1, 1)\n",
    "print(\"Shape: \", X.shape, y.shape)"
   ]
  },
  {
   "cell_type": "code",
   "execution_count": 39,
   "metadata": {},
   "outputs": [
    {
     "data": {
      "text/plain": [
       "Text(0,0.5,'Duration of Eruption Minutes')"
      ]
     },
     "execution_count": 39,
     "metadata": {},
     "output_type": "execute_result"
    },
    {
     "data": {
      "image/png": "[encoded data removed]",
      "text/plain": [
       "<Figure size 432x288 with 1 Axes>"
      ]
     },
     "metadata": {
      "needs_background": "light"
     },
     "output_type": "display_data"
    }
   ],
   "source": [
    "# Plot the data to see if linear relationship exists\n",
    "plt.scatter(X, y)\n",
    "plt.xlabel(\"Waiting Time Minutes\")\n",
    "plt.ylabel(\"Duration of Eruption Minutes\")"
   ]
  },
  {
   "cell_type": "code",
   "execution_count": 40,
   "metadata": {},
   "outputs": [],
   "source": [
    "# Use sklearn's `train_test_split` to split the data into training and testing\n",
    "from sklearn.model_selection import train_test_split\n",
    "X_train, X_test, y_train, y_test = train_test_split(X, y, random_state=42)"
   ]
  },
  {
   "cell_type": "code",
   "execution_count": 41,
   "metadata": {},
   "outputs": [],
   "source": [
    "# Create the model\n",
    "from sklearn.linear_model import LinearRegression\n",
    "model = LinearRegression()"
   ]
  },
  {
   "cell_type": "code",
   "execution_count": 42,
   "metadata": {},
   "outputs": [
    {
     "data": {
      "text/plain": [
       "LinearRegression(copy_X=True, fit_intercept=True, n_jobs=1, normalize=False)"
      ]
     },
     "execution_count": 42,
     "metadata": {},
     "output_type": "execute_result"
    }
   ],
   "source": [
    "# Fit the model to the training data. \n",
    "model.fit(X_train, y_train)"
   ]
  },
  {
   "cell_type": "code",
   "execution_count": 43,
   "metadata": {},
   "outputs": [
    {
     "name": "stdout",
     "output_type": "stream",
     "text": [
      "Mean Squared Error (MSE): 0.342662660359892\n",
      "R-squared (R2 ): 0.19067333416292653\n"
     ]
    }
   ],
   "source": [
    "# Calculate the mean_squared_error and the r-squared value\n",
    "from sklearn.metrics import mean_squared_error, r2_score\n",
    "\n",
    "# Use our model to make predictions\n",
    "predicted = model.predict(X_test)\n",
    "\n",
    "# Score the predictions with mse and r2\n",
    "mse = mean_squared_error(y_test, predicted)\n",
    "r2 = r2_score(y_test, predicted)\n",
    "\n",
    "print(f\"Mean Squared Error (MSE): {mse}\")\n",
    "print(f\"R-squared (R2 ): {r2}\")"
   ]
  },
  {
   "cell_type": "code",
   "execution_count": 44,
   "metadata": {},
   "outputs": [
    {
     "name": "stdout",
     "output_type": "stream",
     "text": [
      "[1.1364597]\n",
      "[[0.03241489]]\n"
     ]
    }
   ],
   "source": [
    "#To retrieve the intercept:\n",
    "print(model.intercept_)\n",
    "#For retrieving the slope:\n",
    "print(model.coef_)"
   ]
  },
  {
   "cell_type": "code",
   "execution_count": 48,
   "metadata": {},
   "outputs": [
    {
     "data": {
      "text/html": [
       "<div>\n",
       "<style scoped>\n",
       "    .dataframe tbody tr th:only-of-type {\n",
       "        vertical-align: middle;\n",
       "    }\n",
       "\n",
       "    .dataframe tbody tr th {\n",
       "        vertical-align: top;\n",
       "    }\n",
       "\n",
       "    .dataframe thead th {\n",
       "        text-align: right;\n",
       "    }\n",
       "</style>\n",
       "<table border=\"1\" class=\"dataframe\">\n",
       "  <thead>\n",
       "    <tr style=\"text-align: right;\">\n",
       "      <th></th>\n",
       "      <th>geyser</th>\n",
       "      <th>eruption_time_epoch</th>\n",
       "      <th>duration</th>\n",
       "      <th>observer</th>\n",
       "      <th>date</th>\n",
       "      <th>year</th>\n",
       "      <th>waiting_min</th>\n",
       "      <th>waiting_hr</th>\n",
       "      <th>dur</th>\n",
       "    </tr>\n",
       "    <tr>\n",
       "      <th>eruptionID</th>\n",
       "      <th></th>\n",
       "      <th></th>\n",
       "      <th></th>\n",
       "      <th></th>\n",
       "      <th></th>\n",
       "      <th></th>\n",
       "      <th></th>\n",
       "      <th></th>\n",
       "      <th></th>\n",
       "    </tr>\n",
       "  </thead>\n",
       "  <tbody>\n",
       "    <tr>\n",
       "      <th>23132</th>\n",
       "      <td>Old Faithful</td>\n",
       "      <td>10506540</td>\n",
       "      <td>4min</td>\n",
       "      <td>OFVCL-EV</td>\n",
       "      <td>5/2/1970 14:29</td>\n",
       "      <td>1970</td>\n",
       "      <td>71.0</td>\n",
       "      <td>1.18</td>\n",
       "      <td>4.00</td>\n",
       "    </tr>\n",
       "    <tr>\n",
       "      <th>23133</th>\n",
       "      <td>Old Faithful</td>\n",
       "      <td>10510800</td>\n",
       "      <td>1.5min</td>\n",
       "      <td>OFVCL-EV</td>\n",
       "      <td>5/2/1970 15:40</td>\n",
       "      <td>1970</td>\n",
       "      <td>50.0</td>\n",
       "      <td>0.83</td>\n",
       "      <td>1.50</td>\n",
       "    </tr>\n",
       "    <tr>\n",
       "      <th>23134</th>\n",
       "      <td>Old Faithful</td>\n",
       "      <td>10513800</td>\n",
       "      <td>4.25m</td>\n",
       "      <td>OFVCL-EV</td>\n",
       "      <td>5/2/1970 16:30</td>\n",
       "      <td>1970</td>\n",
       "      <td>67.0</td>\n",
       "      <td>1.12</td>\n",
       "      <td>4.25</td>\n",
       "    </tr>\n",
       "    <tr>\n",
       "      <th>23135</th>\n",
       "      <td>Old Faithful</td>\n",
       "      <td>10517820</td>\n",
       "      <td>4m</td>\n",
       "      <td>OFVCL-EV</td>\n",
       "      <td>5/2/1970 17:37</td>\n",
       "      <td>1970</td>\n",
       "      <td>81.0</td>\n",
       "      <td>1.35</td>\n",
       "      <td>4.00</td>\n",
       "    </tr>\n",
       "    <tr>\n",
       "      <th>23136</th>\n",
       "      <td>Old Faithful</td>\n",
       "      <td>10522680</td>\n",
       "      <td>1.75min</td>\n",
       "      <td>OFVCL-EV</td>\n",
       "      <td>5/2/1970 18:58</td>\n",
       "      <td>1970</td>\n",
       "      <td>43.0</td>\n",
       "      <td>0.72</td>\n",
       "      <td>1.75</td>\n",
       "    </tr>\n",
       "  </tbody>\n",
       "</table>\n",
       "</div>"
      ],
      "text/plain": [
       "                  geyser  eruption_time_epoch duration  observer  \\\n",
       "eruptionID                                                         \n",
       "23132       Old Faithful             10506540     4min  OFVCL-EV   \n",
       "23133       Old Faithful             10510800   1.5min  OFVCL-EV   \n",
       "23134       Old Faithful             10513800    4.25m  OFVCL-EV   \n",
       "23135       Old Faithful             10517820       4m  OFVCL-EV   \n",
       "23136       Old Faithful             10522680  1.75min  OFVCL-EV   \n",
       "\n",
       "                      date  year  waiting_min  waiting_hr   dur  \n",
       "eruptionID                                                       \n",
       "23132       5/2/1970 14:29  1970         71.0        1.18  4.00  \n",
       "23133       5/2/1970 15:40  1970         50.0        0.83  1.50  \n",
       "23134       5/2/1970 16:30  1970         67.0        1.12  4.25  \n",
       "23135       5/2/1970 17:37  1970         81.0        1.35  4.00  \n",
       "23136       5/2/1970 18:58  1970         43.0        0.72  1.75  "
      ]
     },
     "execution_count": 48,
     "metadata": {},
     "output_type": "execute_result"
    }
   ],
   "source": [
    "#waiting time vs year\n",
    "\n",
    "init = pd.read_csv('duration.csv', index_col='eruptionID')\n",
    "init.head()\n"
   ]
  }
 ],
 "metadata": {
  "kernelspec": {
   "display_name": "Python 3",
   "language": "python",
   "name": "python3"
  },
  "language_info": {
   "codemirror_mode": {
    "name": "ipython",
    "version": 3
   },
   "file_extension": ".py",
   "mimetype": "text/x-python",
   "name": "python",
   "nbconvert_exporter": "python",
   "pygments_lexer": "ipython3",
   "version": "3.7.0"
  }
 },
 "nbformat": 4,
 "nbformat_minor": 2
}

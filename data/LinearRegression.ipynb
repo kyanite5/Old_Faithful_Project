{
 "cells": [
  {
   "cell_type": "markdown",
   "metadata": {},
   "source": [
    "### Linear Regression model for Duration of Eruption (min) and Waiting Time between Eruptions (min)"
   ]
  },
  {
   "cell_type": "code",
   "execution_count": 1,
   "metadata": {},
   "outputs": [],
   "source": [
    "import matplotlib.pyplot as plt\n",
    "import numpy as np\n",
    "import pandas as pd"
   ]
  },
  {
   "cell_type": "code",
   "execution_count": 2,
   "metadata": {},
   "outputs": [
    {
     "data": {
      "text/html": [
       "<div>\n",
       "<style scoped>\n",
       "    .dataframe tbody tr th:only-of-type {\n",
       "        vertical-align: middle;\n",
       "    }\n",
       "\n",
       "    .dataframe tbody tr th {\n",
       "        vertical-align: top;\n",
       "    }\n",
       "\n",
       "    .dataframe thead th {\n",
       "        text-align: right;\n",
       "    }\n",
       "</style>\n",
       "<table border=\"1\" class=\"dataframe\">\n",
       "  <thead>\n",
       "    <tr style=\"text-align: right;\">\n",
       "      <th></th>\n",
       "      <th>eruptionID</th>\n",
       "      <th>geyser</th>\n",
       "      <th>eruption_time_epoch</th>\n",
       "      <th>duration</th>\n",
       "      <th>observer</th>\n",
       "      <th>date</th>\n",
       "      <th>dur</th>\n",
       "      <th>waiting_min</th>\n",
       "      <th>waiting_hr</th>\n",
       "      <th>year</th>\n",
       "    </tr>\n",
       "  </thead>\n",
       "  <tbody>\n",
       "    <tr>\n",
       "      <th>0</th>\n",
       "      <td>23132</td>\n",
       "      <td>Old Faithful</td>\n",
       "      <td>10506540</td>\n",
       "      <td>4min</td>\n",
       "      <td>OFVCL-EV</td>\n",
       "      <td>5/2/1970 14:29</td>\n",
       "      <td>4.00</td>\n",
       "      <td>71</td>\n",
       "      <td>1.18</td>\n",
       "      <td>1970</td>\n",
       "    </tr>\n",
       "    <tr>\n",
       "      <th>1</th>\n",
       "      <td>23133</td>\n",
       "      <td>Old Faithful</td>\n",
       "      <td>10510800</td>\n",
       "      <td>1.5min</td>\n",
       "      <td>OFVCL-EV</td>\n",
       "      <td>5/2/1970 15:40</td>\n",
       "      <td>1.50</td>\n",
       "      <td>50</td>\n",
       "      <td>0.83</td>\n",
       "      <td>1970</td>\n",
       "    </tr>\n",
       "    <tr>\n",
       "      <th>2</th>\n",
       "      <td>23134</td>\n",
       "      <td>Old Faithful</td>\n",
       "      <td>10513800</td>\n",
       "      <td>4.25m</td>\n",
       "      <td>OFVCL-EV</td>\n",
       "      <td>5/2/1970 16:30</td>\n",
       "      <td>4.25</td>\n",
       "      <td>67</td>\n",
       "      <td>1.12</td>\n",
       "      <td>1970</td>\n",
       "    </tr>\n",
       "    <tr>\n",
       "      <th>3</th>\n",
       "      <td>23135</td>\n",
       "      <td>Old Faithful</td>\n",
       "      <td>10517820</td>\n",
       "      <td>4m</td>\n",
       "      <td>OFVCL-EV</td>\n",
       "      <td>5/2/1970 17:37</td>\n",
       "      <td>4.00</td>\n",
       "      <td>81</td>\n",
       "      <td>1.35</td>\n",
       "      <td>1970</td>\n",
       "    </tr>\n",
       "    <tr>\n",
       "      <th>4</th>\n",
       "      <td>23136</td>\n",
       "      <td>Old Faithful</td>\n",
       "      <td>10522680</td>\n",
       "      <td>1.75min</td>\n",
       "      <td>OFVCL-EV</td>\n",
       "      <td>5/2/1970 18:58</td>\n",
       "      <td>1.75</td>\n",
       "      <td>43</td>\n",
       "      <td>0.72</td>\n",
       "      <td>1970</td>\n",
       "    </tr>\n",
       "  </tbody>\n",
       "</table>\n",
       "</div>"
      ],
      "text/plain": [
       "   eruptionID        geyser  eruption_time_epoch duration  observer  \\\n",
       "0       23132  Old Faithful             10506540     4min  OFVCL-EV   \n",
       "1       23133  Old Faithful             10510800   1.5min  OFVCL-EV   \n",
       "2       23134  Old Faithful             10513800    4.25m  OFVCL-EV   \n",
       "3       23135  Old Faithful             10517820       4m  OFVCL-EV   \n",
       "4       23136  Old Faithful             10522680  1.75min  OFVCL-EV   \n",
       "\n",
       "             date   dur  waiting_min  waiting_hr  year  \n",
       "0  5/2/1970 14:29  4.00           71        1.18  1970  \n",
       "1  5/2/1970 15:40  1.50           50        0.83  1970  \n",
       "2  5/2/1970 16:30  4.25           67        1.12  1970  \n",
       "3  5/2/1970 17:37  4.00           81        1.35  1970  \n",
       "4  5/2/1970 18:58  1.75           43        0.72  1970  "
      ]
     },
     "execution_count": 2,
     "metadata": {},
     "output_type": "execute_result"
    }
   ],
   "source": [
    "data = pd.read_csv('truncated_waittimes.csv')\n",
    "data.head()"
   ]
  },
  {
   "cell_type": "code",
   "execution_count": 3,
   "metadata": {},
   "outputs": [
    {
     "name": "stdout",
     "output_type": "stream",
     "text": [
      "Shape:  (18592, 1) (18592, 1)\n"
     ]
    }
   ],
   "source": [
    "# shape data\n",
    "X = data[\"waiting_min\"].values.reshape(-1, 1)\n",
    "y = data[\"dur\"].values.reshape(-1, 1)\n",
    "print(\"Shape: \", X.shape, y.shape)"
   ]
  },
  {
   "cell_type": "code",
   "execution_count": 4,
   "metadata": {},
   "outputs": [
    {
     "data": {
      "text/plain": [
       "Text(0,0.5,'Duration of Eruption Minutes')"
      ]
     },
     "execution_count": 4,
     "metadata": {},
     "output_type": "execute_result"
    },
    {
     "data": {
      "image/png": "[encoded data removed]",
      "text/plain": [
       "<Figure size 432x288 with 1 Axes>"
      ]
     },
     "metadata": {
      "needs_background": "light"
     },
     "output_type": "display_data"
    }
   ],
   "source": [
    "# Plot the data to see if linear relationship exists\n",
    "plt.scatter(X, y)\n",
    "plt.xlabel(\"Waiting Time Minutes\")\n",
    "plt.ylabel(\"Duration of Eruption Minutes\")"
   ]
  },
  {
   "cell_type": "code",
   "execution_count": 5,
   "metadata": {},
   "outputs": [],
   "source": [
    "# Use sklearn's `train_test_split` to split the data into training and testing\n",
    "from sklearn.model_selection import train_test_split\n",
    "X_train, X_test, y_train, y_test = train_test_split(X, y, random_state=42)"
   ]
  },
  {
   "cell_type": "code",
   "execution_count": 6,
   "metadata": {},
   "outputs": [],
   "source": [
    "# Create the model\n",
    "from sklearn.linear_model import LinearRegression\n",
    "model = LinearRegression()"
   ]
  },
  {
   "cell_type": "code",
   "execution_count": 7,
   "metadata": {},
   "outputs": [
    {
     "data": {
      "text/plain": [
       "LinearRegression(copy_X=True, fit_intercept=True, n_jobs=1, normalize=False)"
      ]
     },
     "execution_count": 7,
     "metadata": {},
     "output_type": "execute_result"
    }
   ],
   "source": [
    "# Fit the model to the training data. \n",
    "model.fit(X_train, y_train)"
   ]
  },
  {
   "cell_type": "code",
   "execution_count": 8,
   "metadata": {},
   "outputs": [
    {
     "name": "stdout",
     "output_type": "stream",
     "text": [
      "Mean Squared Error (MSE): 0.4260522094646597\n",
      "R-squared (R2 ): 0.6330604469647225\n"
     ]
    }
   ],
   "source": [
    "# Calculate the mean_squared_error and the r-squared value\n",
    "from sklearn.metrics import mean_squared_error, r2_score\n",
    "\n",
    "# Use our model to make predictions\n",
    "predicted = model.predict(X_test)\n",
    "\n",
    "# Score the predictions with mse and r2\n",
    "mse = mean_squared_error(y_test, predicted)\n",
    "r2 = r2_score(y_test, predicted)\n",
    "\n",
    "print(f\"Mean Squared Error (MSE): {mse}\")\n",
    "print(f\"R-squared (R2 ): {r2}\")"
   ]
  },
  {
   "cell_type": "code",
   "execution_count": 9,
   "metadata": {},
   "outputs": [
    {
     "data": {
      "text/plain": [
       "0.6330604469647225"
      ]
     },
     "execution_count": 9,
     "metadata": {},
     "output_type": "execute_result"
    }
   ],
   "source": [
    "# Call the `score` method on the model to show the r2 score\n",
    "model.score(X_test, y_test)"
   ]
  },
  {
   "cell_type": "code",
   "execution_count": 10,
   "metadata": {},
   "outputs": [
    {
     "data": {
      "image/png": "[encoded data removed]",
      "text/plain": [
       "<Figure size 432x288 with 1 Axes>"
      ]
     },
     "metadata": {
      "needs_background": "light"
     },
     "output_type": "display_data"
    }
   ],
   "source": [
    "plt.scatter(predicted, predicted - y_test)\n",
    "plt.hlines(y=0, xmin=predicted.min(), xmax=predicted.max())\n",
    "plt.show()"
   ]
  },
  {
   "cell_type": "code",
   "execution_count": 12,
   "metadata": {},
   "outputs": [
    {
     "data": {
      "text/plain": [
       "LinregressResult(slope=0.061985776225457354, intercept=-0.9830652257697343, rvalue=0.7983109902175334, pvalue=0.0, stderr=0.000342968123387028)"
      ]
     },
     "execution_count": 12,
     "metadata": {},
     "output_type": "execute_result"
    }
   ],
   "source": [
    "X = data[\"waiting_min\"]\n",
    "y = data[\"dur\"]\n",
    "\n",
    "from scipy.stats import linregress\n",
    "linregress(X,y) "
   ]
  },
  {
   "cell_type": "code",
   "execution_count": null,
   "metadata": {},
   "outputs": [],
   "source": []
  }
 ],
 "metadata": {
  "kernelspec": {
   "display_name": "Python 3",
   "language": "python",
   "name": "python3"
  },
  "language_info": {
   "codemirror_mode": {
    "name": "ipython",
    "version": 3
   },
   "file_extension": ".py",
   "mimetype": "text/x-python",
   "name": "python",
   "nbconvert_exporter": "python",
   "pygments_lexer": "ipython3",
   "version": "3.7.0"
  }
 },
 "nbformat": 4,
 "nbformat_minor": 2
}
